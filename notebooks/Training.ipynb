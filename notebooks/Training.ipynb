{
  "nbformat": 4,
  "nbformat_minor": 0,
  "metadata": {
    "colab": {
      "name": "Emo.ipynb",
      "provenance": [],
      "collapsed_sections": []
    },
    "kernelspec": {
      "name": "python3",
      "display_name": "Python 3"
    },
    "language_info": {
      "name": "python"
    },
    "accelerator": "TPU"
  },
  "cells": [
    {
      "cell_type": "code",
      "metadata": {
        "id": "keCVHltpiMpW"
      },
      "source": [
        "from tensorflow.keras import layers\n",
        "import pandas as pd\n",
        "import numpy as np \n",
        "import re\n",
        "from sklearn.model_selection import train_test_split\n",
        "from sklearn.metrics import accuracy_score\n",
        "import spacy\n",
        "from tensorflow.keras.models import Sequential\n",
        "from tensorflow.keras.preprocessing.text import Tokenizer\n",
        "from tensorflow.keras.preprocessing.sequence import pad_sequences\n",
        "from sklearn.preprocessing import OneHotEncoder\n",
        "import itertools\n",
        "from tensorflow.keras.callbacks import EarlyStopping, ModelCheckpoint\n",
        "from tensorflow import keras\n",
        "from AttentionClass import Attention\n",
        "from pathlib import Path\n",
        "import csv, re, os \n",
        "from sklearn.preprocessing import StandardScaler\n",
        "from keras import regularizers\n",
        "import tensorflow as tf\n",
        "import matplotlib.pyplot as plt"
      ],
      "execution_count": 90,
      "outputs": []
    },
    {
      "cell_type": "code",
      "metadata": {
        "id": "LIqX8_oZmNAC",
        "colab": {
          "base_uri": "https://localhost:8080/"
        },
        "outputId": "cc4cca37-a7b1-49aa-8db1-f4d59301739b"
      },
      "source": [
        "def Load_Data(exeptions:list):\n",
        "    # Get Input and Target Data\n",
        "    input_data = np.ones([1, 60])\n",
        "    target_data_binary_PHQ = [0]\n",
        "    target_data_score_PHQ = [0]\n",
        "    shape=[0]\n",
        "    \n",
        "    i = 1\n",
        "    target_data_csv = Path('./text_audio.csv')\n",
        "    with open(target_data_csv, 'r') as csvFile:\n",
        "        reader = csv.reader(csvFile)\n",
        "        for row in reader:\n",
        "            try:\n",
        "                participant_ID = str(row[1])\n",
        "                if row[2] in exeptions:\n",
        "                  continue\n",
        "                binary_PHQ8 = row[2]\n",
        "                score_PHQ8 = row[2]\n",
        "                \n",
        "                csv_file_path = './Data_csvs/'   \n",
        "                if os.path.exists(csv_file_path+participant_ID):\n",
        "                    input_directory = Path(csv_file_path)\n",
        "                    #print()\n",
        "                    #for my_csv_filename in input_directory.glob(participant_ID):  \n",
        "                        # Extract the .csv filename   \n",
        "                    my_csv_filename = participant_ID + '.csv'\n",
        "\n",
        "                    io = pd.read_csv(csv_file_path+my_csv_filename, sep=\",\", usecols=(1,2,3,4,5,6,7,8,9,10,11,12,13,14,15,16,17,18,19,20,21,22,23,24,25,26,27,28,29,30,31,32,33,34,35,36,37,38,39,40,41,42,43,44,45,46,47,48,49,50,51,52,53,54,55,56,57,58,59,60))\n",
        "\n",
        "                    # Get the Matrix\n",
        "                    i = i+1\n",
        "                    io = np.array(io, dtype=np.float64)\n",
        "\n",
        "                    shape=np.append(shape,io.shape[0])\n",
        "                   \n",
        "                    input_data = np.append(input_data, io, axis=0) \n",
        "\n",
        "                    for i in range(io.shape[0]):\n",
        "                        target_data_binary_PHQ.append(binary_PHQ8)\n",
        "                        target_data_score_PHQ.append(score_PHQ8)\n",
        "\n",
        "            except ValueError:\n",
        "                print(\"Skipping the following line: \", row[0])\n",
        "    csvFile.close()            \n",
        "                \n",
        "    print(\"the size of my list-input-matrix: \", i)\n",
        "    \n",
        "    \n",
        "    return input_data, target_data_binary_PHQ, target_data_score_PHQ, shape\n",
        "\n",
        "# Loading data\n",
        "input_data, target_data_binary_PHQ, target_data_score_PHQ ,shape_sequences= Load_Data(['A', 'E', 'F'])\n"
      ],
      "execution_count": 125,
      "outputs": [
        {
          "output_type": "stream",
          "text": [
            "the size of my list-input-matrix:  60\n"
          ],
          "name": "stdout"
        }
      ]
    },
    {
      "cell_type": "code",
      "metadata": {
        "id": "8uARMg8pnH7Y"
      },
      "source": [
        "X = input_data[1:]\n",
        "Y = target_data_binary_PHQ[1:]"
      ],
      "execution_count": 126,
      "outputs": []
    },
    {
      "cell_type": "code",
      "metadata": {
        "id": "qhVEsfDUkqey"
      },
      "source": [
        "\n",
        "Y = [[y] for y in Y]\n",
        "enc = OneHotEncoder(handle_unknown='ignore')\n",
        "enc.fit(Y)\n",
        "Y = enc.transform(Y).toarray()"
      ],
      "execution_count": 127,
      "outputs": []
    },
    {
      "cell_type": "code",
      "metadata": {
        "colab": {
          "base_uri": "https://localhost:8080/"
        },
        "id": "2wAhzQ99DAEy",
        "outputId": "b7cf2631-2b05-46c5-fa78-80376f0a26fe"
      },
      "source": [
        "enc.categories_"
      ],
      "execution_count": 128,
      "outputs": [
        {
          "output_type": "execute_result",
          "data": {
            "text/plain": [
              "[array(['L', 'N', 'T', 'W'], dtype=object)]"
            ]
          },
          "metadata": {
            "tags": []
          },
          "execution_count": 128
        }
      ]
    },
    {
      "cell_type": "code",
      "metadata": {
        "id": "X7ZCeJxokyh_"
      },
      "source": [
        "X_train,X_test, y_train, y_test = train_test_split(X,Y,test_size=0.20,random_state=102)"
      ],
      "execution_count": 129,
      "outputs": []
    },
    {
      "cell_type": "code",
      "metadata": {
        "id": "0a-NtRkBqvfn",
        "colab": {
          "base_uri": "https://localhost:8080/"
        },
        "outputId": "20c8e6d9-ab11-42e3-ccae-5f5ecd01abee"
      },
      "source": [
        "scaler = StandardScaler()\n",
        "X_train = scaler.fit_transform(X_train)\n",
        "X_test = scaler.transform(X_test)\n",
        "print(\"Done Scaling!\")\n",
        "\n",
        "# Dimensions Update\n",
        "X_train = np.expand_dims(X_train, -1)\n",
        "X_test = np.expand_dims(X_test, -1)\n",
        "print(\"Done!\")\n"
      ],
      "execution_count": 130,
      "outputs": [
        {
          "output_type": "stream",
          "text": [
            "Done Scaling!\n",
            "Done!\n"
          ],
          "name": "stdout"
        }
      ]
    },
    {
      "cell_type": "code",
      "metadata": {
        "colab": {
          "base_uri": "https://localhost:8080/",
          "height": 330
        },
        "id": "tX1gCM56U2lv",
        "outputId": "921da55c-bdcb-4203-8d26-e1503e76b08b"
      },
      "source": [
        "plt.hist(target_data_binary_PHQ)"
      ],
      "execution_count": 131,
      "outputs": [
        {
          "output_type": "execute_result",
          "data": {
            "text/plain": [
              "(array([1.000e+00, 0.000e+00, 4.498e+03, 0.000e+00, 0.000e+00, 8.127e+03,\n",
              "        0.000e+00, 6.156e+03, 0.000e+00, 5.467e+03]),\n",
              " array([0. , 0.4, 0.8, 1.2, 1.6, 2. , 2.4, 2.8, 3.2, 3.6, 4. ]),\n",
              " <a list of 10 Patch objects>)"
            ]
          },
          "metadata": {
            "tags": []
          },
          "execution_count": 131
        },
        {
          "output_type": "display_data",
          "data": {
            "image/png": "[encoded data removed]",
            "text/plain": [
              "<Figure size 432x288 with 1 Axes>"
            ]
          },
          "metadata": {
            "tags": [],
            "needs_background": "light"
          }
        }
      ]
    },
    {
      "cell_type": "code",
      "metadata": {
        "id": "ETKjidJeVxb5"
      },
      "source": [
        "import numpy as np\n",
        "from sklearn.utils.class_weight import compute_class_weight\n",
        " \n",
        "y_integers = np.argmax(y_train, axis=1)\n",
        "class_weights = compute_class_weight('balanced', np.unique(y_integers), y_integers)\n",
        "class_weight = dict(enumerate(class_weights))"
      ],
      "execution_count": 132,
      "outputs": []
    },
    {
      "cell_type": "code",
      "metadata": {
        "colab": {
          "base_uri": "https://localhost:8080/"
        },
        "id": "dbxfTjUKr9W8",
        "outputId": "51e93b2f-8cbc-4a47-dbbd-44a5103e8490"
      },
      "source": [
        "class_weight"
      ],
      "execution_count": 133,
      "outputs": [
        {
          "output_type": "execute_result",
          "data": {
            "text/plain": [
              "{0: 1.1163674033149171,\n",
              " 1: 1.337055417700579,\n",
              " 2: 0.9759508955524251,\n",
              " 3: 0.7509290802105915}"
            ]
          },
          "metadata": {
            "tags": []
          },
          "execution_count": 133
        }
      ]
    },
    {
      "cell_type": "code",
      "metadata": {
        "id": "zAfRahzOjH-Y"
      },
      "source": [
        "\n",
        "\n",
        "def create_model():\n",
        "  model = Sequential()\n",
        "  model.add(layers.Bidirectional(layers.LSTM(units=100, return_sequences=True, dropout=0.25, recurrent_dropout=0.2),input_shape=(X_train.shape[1], 1)))\n",
        "  model.add(layers.Bidirectional(layers.LSTM(units=60, return_sequences=True, dropout=0.25, recurrent_dropout=0.2)))\n",
        "  model.add(Attention(60))\n",
        "  model.add(layers.Dropout(rate=0.2))\n",
        "  model.add(layers.Dense(256, activation='relu'))\n",
        "  model.add(layers.Dense(len(enc.categories_[0]), activation='softmax'))\n",
        "  model.compile(loss='categorical_crossentropy',optimizer='Adam',metrics=['accuracy'])\n",
        "  print(model.summary())\n",
        "  return model"
      ],
      "execution_count": 134,
      "outputs": []
    },
    {
      "cell_type": "code",
      "metadata": {
        "id": "EP4m0M6BkOLC",
        "colab": {
          "base_uri": "https://localhost:8080/"
        },
        "outputId": "1c0261ac-c26a-4be1-fce4-c09124c1ccae"
      },
      "source": [
        "import os\n",
        "try:\n",
        " device_name = os.environ['COLAB_TPU_ADDR']\n",
        " TPU_ADDRESS = 'grpc://' + device_name\n",
        " print('Found TPU at: {}'.format(TPU_ADDRESS))\n",
        "except KeyError:\n",
        " print('TPU not found')"
      ],
      "execution_count": 135,
      "outputs": [
        {
          "output_type": "stream",
          "text": [
            "Found TPU at: grpc://10.92.237.98:8470\n"
          ],
          "name": "stdout"
        }
      ]
    },
    {
      "cell_type": "code",
      "metadata": {
        "id": "CNDt1bAWkRf6",
        "colab": {
          "base_uri": "https://localhost:8080/"
        },
        "outputId": "38aee2b7-f805-4d31-ac66-cbfa512ccf5c"
      },
      "source": [
        "import tensorflow as tf\n",
        "use_tpu = True\n",
        "if use_tpu:\n",
        "    # Create distribution strategy\n",
        "    tpu = tf.distribute.cluster_resolver.TPUClusterResolver(tpu=TPU_ADDRESS)\n",
        "    tf.config.experimental_connect_to_cluster(tpu)\n",
        "    tf.tpu.experimental.initialize_tpu_system(tpu)\n",
        "    strategy = tf.distribute.experimental.TPUStrategy(tpu)\n",
        "\n",
        "    # Create model\n",
        "    with strategy.scope():\n",
        "        model = create_model()\n",
        "else:\n",
        "    model = create_model()\n",
        "\n",
        "model.summary()"
      ],
      "execution_count": 136,
      "outputs": [
        {
          "output_type": "stream",
          "text": [
            "WARNING:tensorflow:TPU system grpc://10.92.237.98:8470 has already been initialized. Reinitializing the TPU can cause previously created variables on TPU to be lost.\n"
          ],
          "name": "stdout"
        },
        {
          "output_type": "stream",
          "text": [
            "WARNING:tensorflow:TPU system grpc://10.92.237.98:8470 has already been initialized. Reinitializing the TPU can cause previously created variables on TPU to be lost.\n"
          ],
          "name": "stderr"
        },
        {
          "output_type": "stream",
          "text": [
            "INFO:tensorflow:Initializing the TPU system: grpc://10.92.237.98:8470\n"
          ],
          "name": "stdout"
        },
        {
          "output_type": "stream",
          "text": [
            "INFO:tensorflow:Initializing the TPU system: grpc://10.92.237.98:8470\n"
          ],
          "name": "stderr"
        },
        {
          "output_type": "stream",
          "text": [
            "INFO:tensorflow:Clearing out eager caches\n"
          ],
          "name": "stdout"
        },
        {
          "output_type": "stream",
          "text": [
            "INFO:tensorflow:Clearing out eager caches\n"
          ],
          "name": "stderr"
        },
        {
          "output_type": "stream",
          "text": [
            "INFO:tensorflow:Finished initializing TPU system.\n"
          ],
          "name": "stdout"
        },
        {
          "output_type": "stream",
          "text": [
            "INFO:tensorflow:Finished initializing TPU system.\n",
            "WARNING:absl:`tf.distribute.experimental.TPUStrategy` is deprecated, please use  the non experimental symbol `tf.distribute.TPUStrategy` instead.\n"
          ],
          "name": "stderr"
        },
        {
          "output_type": "stream",
          "text": [
            "INFO:tensorflow:Found TPU system:\n"
          ],
          "name": "stdout"
        },
        {
          "output_type": "stream",
          "text": [
            "INFO:tensorflow:Found TPU system:\n"
          ],
          "name": "stderr"
        },
        {
          "output_type": "stream",
          "text": [
            "INFO:tensorflow:*** Num TPU Cores: 8\n"
          ],
          "name": "stdout"
        },
        {
          "output_type": "stream",
          "text": [
            "INFO:tensorflow:*** Num TPU Cores: 8\n"
          ],
          "name": "stderr"
        },
        {
          "output_type": "stream",
          "text": [
            "INFO:tensorflow:*** Num TPU Workers: 1\n"
          ],
          "name": "stdout"
        },
        {
          "output_type": "stream",
          "text": [
            "INFO:tensorflow:*** Num TPU Workers: 1\n"
          ],
          "name": "stderr"
        },
        {
          "output_type": "stream",
          "text": [
            "INFO:tensorflow:*** Num TPU Cores Per Worker: 8\n"
          ],
          "name": "stdout"
        },
        {
          "output_type": "stream",
          "text": [
            "INFO:tensorflow:*** Num TPU Cores Per Worker: 8\n"
          ],
          "name": "stderr"
        },
        {
          "output_type": "stream",
          "text": [
            "INFO:tensorflow:*** Available Device: _DeviceAttributes(/job:localhost/replica:0/task:0/device:CPU:0, CPU, 0, 0)\n"
          ],
          "name": "stdout"
        },
        {
          "output_type": "stream",
          "text": [
            "INFO:tensorflow:*** Available Device: _DeviceAttributes(/job:localhost/replica:0/task:0/device:CPU:0, CPU, 0, 0)\n"
          ],
          "name": "stderr"
        },
        {
          "output_type": "stream",
          "text": [
            "INFO:tensorflow:*** Available Device: _DeviceAttributes(/job:worker/replica:0/task:0/device:CPU:0, CPU, 0, 0)\n"
          ],
          "name": "stdout"
        },
        {
          "output_type": "stream",
          "text": [
            "INFO:tensorflow:*** Available Device: _DeviceAttributes(/job:worker/replica:0/task:0/device:CPU:0, CPU, 0, 0)\n"
          ],
          "name": "stderr"
        },
        {
          "output_type": "stream",
          "text": [
            "INFO:tensorflow:*** Available Device: _DeviceAttributes(/job:worker/replica:0/task:0/device:TPU:0, TPU, 0, 0)\n"
          ],
          "name": "stdout"
        },
        {
          "output_type": "stream",
          "text": [
            "INFO:tensorflow:*** Available Device: _DeviceAttributes(/job:worker/replica:0/task:0/device:TPU:0, TPU, 0, 0)\n"
          ],
          "name": "stderr"
        },
        {
          "output_type": "stream",
          "text": [
            "INFO:tensorflow:*** Available Device: _DeviceAttributes(/job:worker/replica:0/task:0/device:TPU:1, TPU, 0, 0)\n"
          ],
          "name": "stdout"
        },
        {
          "output_type": "stream",
          "text": [
            "INFO:tensorflow:*** Available Device: _DeviceAttributes(/job:worker/replica:0/task:0/device:TPU:1, TPU, 0, 0)\n"
          ],
          "name": "stderr"
        },
        {
          "output_type": "stream",
          "text": [
            "INFO:tensorflow:*** Available Device: _DeviceAttributes(/job:worker/replica:0/task:0/device:TPU:2, TPU, 0, 0)\n"
          ],
          "name": "stdout"
        },
        {
          "output_type": "stream",
          "text": [
            "INFO:tensorflow:*** Available Device: _DeviceAttributes(/job:worker/replica:0/task:0/device:TPU:2, TPU, 0, 0)\n"
          ],
          "name": "stderr"
        },
        {
          "output_type": "stream",
          "text": [
            "INFO:tensorflow:*** Available Device: _DeviceAttributes(/job:worker/replica:0/task:0/device:TPU:3, TPU, 0, 0)\n"
          ],
          "name": "stdout"
        },
        {
          "output_type": "stream",
          "text": [
            "INFO:tensorflow:*** Available Device: _DeviceAttributes(/job:worker/replica:0/task:0/device:TPU:3, TPU, 0, 0)\n"
          ],
          "name": "stderr"
        },
        {
          "output_type": "stream",
          "text": [
            "INFO:tensorflow:*** Available Device: _DeviceAttributes(/job:worker/replica:0/task:0/device:TPU:4, TPU, 0, 0)\n"
          ],
          "name": "stdout"
        },
        {
          "output_type": "stream",
          "text": [
            "INFO:tensorflow:*** Available Device: _DeviceAttributes(/job:worker/replica:0/task:0/device:TPU:4, TPU, 0, 0)\n"
          ],
          "name": "stderr"
        },
        {
          "output_type": "stream",
          "text": [
            "INFO:tensorflow:*** Available Device: _DeviceAttributes(/job:worker/replica:0/task:0/device:TPU:5, TPU, 0, 0)\n"
          ],
          "name": "stdout"
        },
        {
          "output_type": "stream",
          "text": [
            "INFO:tensorflow:*** Available Device: _DeviceAttributes(/job:worker/replica:0/task:0/device:TPU:5, TPU, 0, 0)\n"
          ],
          "name": "stderr"
        },
        {
          "output_type": "stream",
          "text": [
            "INFO:tensorflow:*** Available Device: _DeviceAttributes(/job:worker/replica:0/task:0/device:TPU:6, TPU, 0, 0)\n"
          ],
          "name": "stdout"
        },
        {
          "output_type": "stream",
          "text": [
            "INFO:tensorflow:*** Available Device: _DeviceAttributes(/job:worker/replica:0/task:0/device:TPU:6, TPU, 0, 0)\n"
          ],
          "name": "stderr"
        },
        {
          "output_type": "stream",
          "text": [
            "INFO:tensorflow:*** Available Device: _DeviceAttributes(/job:worker/replica:0/task:0/device:TPU:7, TPU, 0, 0)\n"
          ],
          "name": "stdout"
        },
        {
          "output_type": "stream",
          "text": [
            "INFO:tensorflow:*** Available Device: _DeviceAttributes(/job:worker/replica:0/task:0/device:TPU:7, TPU, 0, 0)\n"
          ],
          "name": "stderr"
        },
        {
          "output_type": "stream",
          "text": [
            "INFO:tensorflow:*** Available Device: _DeviceAttributes(/job:worker/replica:0/task:0/device:TPU_SYSTEM:0, TPU_SYSTEM, 0, 0)\n"
          ],
          "name": "stdout"
        },
        {
          "output_type": "stream",
          "text": [
            "INFO:tensorflow:*** Available Device: _DeviceAttributes(/job:worker/replica:0/task:0/device:TPU_SYSTEM:0, TPU_SYSTEM, 0, 0)\n"
          ],
          "name": "stderr"
        },
        {
          "output_type": "stream",
          "text": [
            "INFO:tensorflow:*** Available Device: _DeviceAttributes(/job:worker/replica:0/task:0/device:XLA_CPU:0, XLA_CPU, 0, 0)\n"
          ],
          "name": "stdout"
        },
        {
          "output_type": "stream",
          "text": [
            "INFO:tensorflow:*** Available Device: _DeviceAttributes(/job:worker/replica:0/task:0/device:XLA_CPU:0, XLA_CPU, 0, 0)\n"
          ],
          "name": "stderr"
        },
        {
          "output_type": "stream",
          "text": [
            "Model: \"sequential_13\"\n",
            "_________________________________________________________________\n",
            "Layer (type)                 Output Shape              Param #   \n",
            "=================================================================\n",
            "bidirectional_15 (Bidirectio (None, 60, 200)           81600     \n",
            "_________________________________________________________________\n",
            "bidirectional_16 (Bidirectio (None, 60, 120)           125280    \n",
            "_________________________________________________________________\n",
            "attention_12 (Attention)     (None, 120)               180       \n",
            "_________________________________________________________________\n",
            "dropout_12 (Dropout)         (None, 120)               0         \n",
            "_________________________________________________________________\n",
            "dense_24 (Dense)             (None, 256)               30976     \n",
            "_________________________________________________________________\n",
            "dense_25 (Dense)             (None, 4)                 1028      \n",
            "=================================================================\n",
            "Total params: 239,064\n",
            "Trainable params: 239,064\n",
            "Non-trainable params: 0\n",
            "_________________________________________________________________\n",
            "None\n",
            "Model: \"sequential_13\"\n",
            "_________________________________________________________________\n",
            "Layer (type)                 Output Shape              Param #   \n",
            "=================================================================\n",
            "bidirectional_15 (Bidirectio (None, 60, 200)           81600     \n",
            "_________________________________________________________________\n",
            "bidirectional_16 (Bidirectio (None, 60, 120)           125280    \n",
            "_________________________________________________________________\n",
            "attention_12 (Attention)     (None, 120)               180       \n",
            "_________________________________________________________________\n",
            "dropout_12 (Dropout)         (None, 120)               0         \n",
            "_________________________________________________________________\n",
            "dense_24 (Dense)             (None, 256)               30976     \n",
            "_________________________________________________________________\n",
            "dense_25 (Dense)             (None, 4)                 1028      \n",
            "=================================================================\n",
            "Total params: 239,064\n",
            "Trainable params: 239,064\n",
            "Non-trainable params: 0\n",
            "_________________________________________________________________\n"
          ],
          "name": "stdout"
        }
      ]
    },
    {
      "cell_type": "code",
      "metadata": {
        "id": "T60n0N6Qkfdn",
        "colab": {
          "base_uri": "https://localhost:8080/"
        },
        "outputId": "3eb6f7f9-18e6-4eb5-c14e-aec04d4fa033"
      },
      "source": [
        "\n",
        "history = model.fit(X_train,y_train,epochs=150,verbose=1,validation_data=(X_test,y_test),\n",
        "                    callbacks=[ModelCheckpoint(filepath='best_model.h5', monitor='val_accuracy', save_best_only=True,save_weights_only=True,class_weight=class_weight)])"
      ],
      "execution_count": 137,
      "outputs": [
        {
          "output_type": "stream",
          "text": [
            "Epoch 1/150\n",
            "607/607 [==============================] - 49s 54ms/step - loss: 1.1271 - accuracy: 0.4983 - val_loss: 1.0261 - val_accuracy: 0.5398\n",
            "Epoch 2/150\n",
            "607/607 [==============================] - 24s 39ms/step - loss: 1.0405 - accuracy: 0.5331 - val_loss: 0.9715 - val_accuracy: 0.5678\n",
            "Epoch 3/150\n",
            "607/607 [==============================] - 24s 39ms/step - loss: 1.0007 - accuracy: 0.5504 - val_loss: 0.9608 - val_accuracy: 0.5647\n",
            "Epoch 4/150\n",
            "607/607 [==============================] - 24s 39ms/step - loss: 0.9642 - accuracy: 0.5637 - val_loss: 0.9185 - val_accuracy: 0.5901\n",
            "Epoch 5/150\n",
            "607/607 [==============================] - 24s 39ms/step - loss: 0.9400 - accuracy: 0.5746 - val_loss: 0.8800 - val_accuracy: 0.6101\n",
            "Epoch 6/150\n",
            "607/607 [==============================] - 24s 39ms/step - loss: 0.9127 - accuracy: 0.5892 - val_loss: 0.8849 - val_accuracy: 0.5977\n",
            "Epoch 7/150\n",
            "607/607 [==============================] - 24s 39ms/step - loss: 0.8937 - accuracy: 0.5915 - val_loss: 0.8461 - val_accuracy: 0.6105\n",
            "Epoch 8/150\n",
            "607/607 [==============================] - 24s 39ms/step - loss: 0.8747 - accuracy: 0.6010 - val_loss: 0.7958 - val_accuracy: 0.6402\n",
            "Epoch 9/150\n",
            "607/607 [==============================] - 24s 39ms/step - loss: 0.8549 - accuracy: 0.6090 - val_loss: 0.7939 - val_accuracy: 0.6425\n",
            "Epoch 10/150\n",
            "607/607 [==============================] - 24s 39ms/step - loss: 0.8353 - accuracy: 0.6216 - val_loss: 0.7718 - val_accuracy: 0.6474\n",
            "Epoch 11/150\n",
            "607/607 [==============================] - 24s 40ms/step - loss: 0.8247 - accuracy: 0.6256 - val_loss: 0.7809 - val_accuracy: 0.6474\n",
            "Epoch 12/150\n",
            "607/607 [==============================] - 24s 39ms/step - loss: 0.7991 - accuracy: 0.6354 - val_loss: 0.7482 - val_accuracy: 0.6633\n",
            "Epoch 13/150\n",
            "607/607 [==============================] - 24s 39ms/step - loss: 0.7782 - accuracy: 0.6465 - val_loss: 0.8089 - val_accuracy: 0.6443\n",
            "Epoch 14/150\n",
            "607/607 [==============================] - 24s 39ms/step - loss: 0.7611 - accuracy: 0.6524 - val_loss: 0.6895 - val_accuracy: 0.6951\n",
            "Epoch 15/150\n",
            "607/607 [==============================] - 24s 39ms/step - loss: 0.7485 - accuracy: 0.6620 - val_loss: 0.7192 - val_accuracy: 0.6763\n",
            "Epoch 16/150\n",
            "607/607 [==============================] - 24s 39ms/step - loss: 0.7290 - accuracy: 0.6677 - val_loss: 0.6875 - val_accuracy: 0.6984\n",
            "Epoch 17/150\n",
            "607/607 [==============================] - 24s 39ms/step - loss: 0.7218 - accuracy: 0.6715 - val_loss: 0.7458 - val_accuracy: 0.6629\n",
            "Epoch 18/150\n",
            "607/607 [==============================] - 24s 40ms/step - loss: 0.7091 - accuracy: 0.6788 - val_loss: 0.6964 - val_accuracy: 0.6895\n",
            "Epoch 19/150\n",
            "607/607 [==============================] - 24s 39ms/step - loss: 0.6989 - accuracy: 0.6841 - val_loss: 0.6959 - val_accuracy: 0.6849\n",
            "Epoch 20/150\n",
            "607/607 [==============================] - 24s 40ms/step - loss: 0.6936 - accuracy: 0.6841 - val_loss: 0.6600 - val_accuracy: 0.7000\n",
            "Epoch 21/150\n",
            "607/607 [==============================] - 24s 39ms/step - loss: 0.6831 - accuracy: 0.6934 - val_loss: 0.6503 - val_accuracy: 0.7136\n",
            "Epoch 22/150\n",
            "607/607 [==============================] - 24s 39ms/step - loss: 0.6754 - accuracy: 0.6965 - val_loss: 0.6621 - val_accuracy: 0.7132\n",
            "Epoch 23/150\n",
            "607/607 [==============================] - 24s 39ms/step - loss: 0.6682 - accuracy: 0.7000 - val_loss: 0.6417 - val_accuracy: 0.7155\n",
            "Epoch 24/150\n",
            "607/607 [==============================] - 24s 39ms/step - loss: 0.6648 - accuracy: 0.7004 - val_loss: 0.6564 - val_accuracy: 0.7103\n",
            "Epoch 25/150\n",
            "607/607 [==============================] - 24s 39ms/step - loss: 0.6550 - accuracy: 0.7052 - val_loss: 0.6994 - val_accuracy: 0.6903\n",
            "Epoch 26/150\n",
            "607/607 [==============================] - 24s 39ms/step - loss: 0.6536 - accuracy: 0.7080 - val_loss: 0.6350 - val_accuracy: 0.7167\n",
            "Epoch 27/150\n",
            "607/607 [==============================] - 24s 39ms/step - loss: 0.6483 - accuracy: 0.7105 - val_loss: 0.6742 - val_accuracy: 0.7002\n",
            "Epoch 28/150\n",
            "607/607 [==============================] - 24s 40ms/step - loss: 0.6363 - accuracy: 0.7179 - val_loss: 0.6254 - val_accuracy: 0.7206\n",
            "Epoch 29/150\n",
            "607/607 [==============================] - 24s 40ms/step - loss: 0.6318 - accuracy: 0.7198 - val_loss: 0.6295 - val_accuracy: 0.7186\n",
            "Epoch 30/150\n",
            "607/607 [==============================] - 24s 39ms/step - loss: 0.6250 - accuracy: 0.7190 - val_loss: 0.6513 - val_accuracy: 0.7085\n",
            "Epoch 31/150\n",
            "607/607 [==============================] - 24s 39ms/step - loss: 0.6236 - accuracy: 0.7211 - val_loss: 0.6144 - val_accuracy: 0.7322\n",
            "Epoch 32/150\n",
            "607/607 [==============================] - 24s 39ms/step - loss: 0.6152 - accuracy: 0.7258 - val_loss: 0.6342 - val_accuracy: 0.7194\n",
            "Epoch 33/150\n",
            "607/607 [==============================] - 24s 39ms/step - loss: 0.6098 - accuracy: 0.7263 - val_loss: 0.6129 - val_accuracy: 0.7375\n",
            "Epoch 34/150\n",
            "607/607 [==============================] - 24s 39ms/step - loss: 0.5995 - accuracy: 0.7360 - val_loss: 0.6236 - val_accuracy: 0.7307\n",
            "Epoch 35/150\n",
            "607/607 [==============================] - 24s 39ms/step - loss: 0.5962 - accuracy: 0.7332 - val_loss: 0.6295 - val_accuracy: 0.7326\n",
            "Epoch 36/150\n",
            "607/607 [==============================] - 24s 39ms/step - loss: 0.5967 - accuracy: 0.7372 - val_loss: 0.6224 - val_accuracy: 0.7297\n",
            "Epoch 37/150\n",
            "607/607 [==============================] - 24s 39ms/step - loss: 0.5834 - accuracy: 0.7429 - val_loss: 0.6209 - val_accuracy: 0.7299\n",
            "Epoch 38/150\n",
            "607/607 [==============================] - 24s 40ms/step - loss: 0.5867 - accuracy: 0.7449 - val_loss: 0.6209 - val_accuracy: 0.7252\n",
            "Epoch 39/150\n",
            "607/607 [==============================] - 24s 39ms/step - loss: 0.5816 - accuracy: 0.7466 - val_loss: 0.6095 - val_accuracy: 0.7311\n",
            "Epoch 40/150\n",
            "607/607 [==============================] - 24s 39ms/step - loss: 0.5736 - accuracy: 0.7482 - val_loss: 0.6105 - val_accuracy: 0.7404\n",
            "Epoch 41/150\n",
            "607/607 [==============================] - 24s 39ms/step - loss: 0.5744 - accuracy: 0.7455 - val_loss: 0.5945 - val_accuracy: 0.7460\n",
            "Epoch 42/150\n",
            "607/607 [==============================] - 24s 39ms/step - loss: 0.5625 - accuracy: 0.7512 - val_loss: 0.6161 - val_accuracy: 0.7392\n",
            "Epoch 43/150\n",
            "607/607 [==============================] - 24s 40ms/step - loss: 0.5630 - accuracy: 0.7537 - val_loss: 0.5873 - val_accuracy: 0.7542\n",
            "Epoch 44/150\n",
            "607/607 [==============================] - 24s 40ms/step - loss: 0.5547 - accuracy: 0.7520 - val_loss: 0.6161 - val_accuracy: 0.7346\n",
            "Epoch 45/150\n",
            "607/607 [==============================] - 24s 39ms/step - loss: 0.5538 - accuracy: 0.7588 - val_loss: 0.6083 - val_accuracy: 0.7402\n",
            "Epoch 46/150\n",
            "607/607 [==============================] - 24s 40ms/step - loss: 0.5478 - accuracy: 0.7596 - val_loss: 0.5778 - val_accuracy: 0.7540\n",
            "Epoch 47/150\n",
            "607/607 [==============================] - 24s 39ms/step - loss: 0.5490 - accuracy: 0.7574 - val_loss: 0.5805 - val_accuracy: 0.7433\n",
            "Epoch 48/150\n",
            "607/607 [==============================] - 24s 39ms/step - loss: 0.5405 - accuracy: 0.7653 - val_loss: 0.5990 - val_accuracy: 0.7421\n",
            "Epoch 49/150\n",
            "607/607 [==============================] - 24s 39ms/step - loss: 0.5349 - accuracy: 0.7644 - val_loss: 0.5743 - val_accuracy: 0.7565\n",
            "Epoch 50/150\n",
            "607/607 [==============================] - 24s 39ms/step - loss: 0.5284 - accuracy: 0.7708 - val_loss: 0.6350 - val_accuracy: 0.7342\n",
            "Epoch 51/150\n",
            "607/607 [==============================] - 24s 39ms/step - loss: 0.5291 - accuracy: 0.7716 - val_loss: 0.5878 - val_accuracy: 0.7460\n",
            "Epoch 52/150\n",
            "607/607 [==============================] - 24s 39ms/step - loss: 0.5227 - accuracy: 0.7719 - val_loss: 0.5915 - val_accuracy: 0.7487\n",
            "Epoch 53/150\n",
            "607/607 [==============================] - 24s 40ms/step - loss: 0.5211 - accuracy: 0.7775 - val_loss: 0.5673 - val_accuracy: 0.7538\n",
            "Epoch 54/150\n",
            "607/607 [==============================] - 24s 39ms/step - loss: 0.5154 - accuracy: 0.7785 - val_loss: 0.5757 - val_accuracy: 0.7540\n",
            "Epoch 55/150\n",
            "607/607 [==============================] - 24s 39ms/step - loss: 0.5176 - accuracy: 0.7752 - val_loss: 0.5762 - val_accuracy: 0.7528\n",
            "Epoch 56/150\n",
            "607/607 [==============================] - 24s 39ms/step - loss: 0.5071 - accuracy: 0.7792 - val_loss: 0.5972 - val_accuracy: 0.7485\n",
            "Epoch 57/150\n",
            "607/607 [==============================] - 24s 40ms/step - loss: 0.5028 - accuracy: 0.7816 - val_loss: 0.5839 - val_accuracy: 0.7489\n",
            "Epoch 58/150\n",
            "607/607 [==============================] - 24s 39ms/step - loss: 0.5033 - accuracy: 0.7803 - val_loss: 0.6011 - val_accuracy: 0.7388\n",
            "Epoch 59/150\n",
            "607/607 [==============================] - 24s 39ms/step - loss: 0.4931 - accuracy: 0.7882 - val_loss: 0.6019 - val_accuracy: 0.7460\n",
            "Epoch 60/150\n",
            "607/607 [==============================] - 24s 39ms/step - loss: 0.4902 - accuracy: 0.7878 - val_loss: 0.5806 - val_accuracy: 0.7482\n",
            "Epoch 61/150\n",
            "607/607 [==============================] - 24s 39ms/step - loss: 0.4918 - accuracy: 0.7877 - val_loss: 0.5888 - val_accuracy: 0.7507\n",
            "Epoch 62/150\n",
            "607/607 [==============================] - 24s 39ms/step - loss: 0.4934 - accuracy: 0.7898 - val_loss: 0.5713 - val_accuracy: 0.7489\n",
            "Epoch 63/150\n",
            "607/607 [==============================] - 24s 39ms/step - loss: 0.4816 - accuracy: 0.7948 - val_loss: 0.5736 - val_accuracy: 0.7561\n",
            "Epoch 64/150\n",
            "607/607 [==============================] - 24s 39ms/step - loss: 0.4816 - accuracy: 0.7933 - val_loss: 0.5707 - val_accuracy: 0.7584\n",
            "Epoch 65/150\n",
            "607/607 [==============================] - 24s 39ms/step - loss: 0.4807 - accuracy: 0.7967 - val_loss: 0.6181 - val_accuracy: 0.7439\n",
            "Epoch 66/150\n",
            "607/607 [==============================] - 24s 39ms/step - loss: 0.4774 - accuracy: 0.7943 - val_loss: 0.5809 - val_accuracy: 0.7497\n",
            "Epoch 67/150\n",
            "607/607 [==============================] - 24s 39ms/step - loss: 0.4695 - accuracy: 0.7967 - val_loss: 0.5864 - val_accuracy: 0.7536\n",
            "Epoch 68/150\n",
            "607/607 [==============================] - 24s 39ms/step - loss: 0.4664 - accuracy: 0.8012 - val_loss: 0.5939 - val_accuracy: 0.7515\n",
            "Epoch 69/150\n",
            "607/607 [==============================] - 24s 40ms/step - loss: 0.4611 - accuracy: 0.8036 - val_loss: 0.5932 - val_accuracy: 0.7495\n",
            "Epoch 70/150\n",
            "607/607 [==============================] - 24s 40ms/step - loss: 0.4553 - accuracy: 0.8078 - val_loss: 0.5756 - val_accuracy: 0.7575\n",
            "Epoch 71/150\n",
            "607/607 [==============================] - 24s 39ms/step - loss: 0.4556 - accuracy: 0.8071 - val_loss: 0.5855 - val_accuracy: 0.7633\n",
            "Epoch 72/150\n",
            "607/607 [==============================] - 24s 40ms/step - loss: 0.4538 - accuracy: 0.8050 - val_loss: 0.6032 - val_accuracy: 0.7497\n",
            "Epoch 73/150\n",
            "607/607 [==============================] - 24s 40ms/step - loss: 0.4510 - accuracy: 0.8078 - val_loss: 0.6043 - val_accuracy: 0.7546\n",
            "Epoch 74/150\n",
            "607/607 [==============================] - 24s 39ms/step - loss: 0.4483 - accuracy: 0.8104 - val_loss: 0.6269 - val_accuracy: 0.7470\n",
            "Epoch 75/150\n",
            "607/607 [==============================] - 25s 41ms/step - loss: 0.4487 - accuracy: 0.8092 - val_loss: 0.6297 - val_accuracy: 0.7384\n",
            "Epoch 76/150\n",
            "607/607 [==============================] - 24s 40ms/step - loss: 0.4384 - accuracy: 0.8120 - val_loss: 0.5942 - val_accuracy: 0.7505\n",
            "Epoch 77/150\n",
            "607/607 [==============================] - 24s 40ms/step - loss: 0.4425 - accuracy: 0.8089 - val_loss: 0.5739 - val_accuracy: 0.7600\n",
            "Epoch 78/150\n",
            "607/607 [==============================] - 24s 40ms/step - loss: 0.4356 - accuracy: 0.8150 - val_loss: 0.6128 - val_accuracy: 0.7491\n",
            "Epoch 79/150\n",
            "607/607 [==============================] - 24s 40ms/step - loss: 0.4305 - accuracy: 0.8201 - val_loss: 0.6310 - val_accuracy: 0.7441\n",
            "Epoch 80/150\n",
            "607/607 [==============================] - 24s 40ms/step - loss: 0.4289 - accuracy: 0.8190 - val_loss: 0.5930 - val_accuracy: 0.7526\n",
            "Epoch 81/150\n",
            "607/607 [==============================] - 24s 39ms/step - loss: 0.4249 - accuracy: 0.8213 - val_loss: 0.5774 - val_accuracy: 0.7573\n",
            "Epoch 82/150\n",
            "607/607 [==============================] - 24s 40ms/step - loss: 0.4295 - accuracy: 0.8192 - val_loss: 0.6390 - val_accuracy: 0.7456\n",
            "Epoch 83/150\n",
            "607/607 [==============================] - 24s 39ms/step - loss: 0.4222 - accuracy: 0.8211 - val_loss: 0.5874 - val_accuracy: 0.7682\n",
            "Epoch 84/150\n",
            "607/607 [==============================] - 24s 39ms/step - loss: 0.4193 - accuracy: 0.8222 - val_loss: 0.5883 - val_accuracy: 0.7557\n",
            "Epoch 85/150\n",
            "607/607 [==============================] - 24s 40ms/step - loss: 0.4156 - accuracy: 0.8242 - val_loss: 0.5889 - val_accuracy: 0.7621\n",
            "Epoch 86/150\n",
            "607/607 [==============================] - 24s 40ms/step - loss: 0.4190 - accuracy: 0.8241 - val_loss: 0.6028 - val_accuracy: 0.7577\n",
            "Epoch 87/150\n",
            "607/607 [==============================] - 24s 40ms/step - loss: 0.4142 - accuracy: 0.8264 - val_loss: 0.5795 - val_accuracy: 0.7612\n",
            "Epoch 88/150\n",
            "607/607 [==============================] - 24s 39ms/step - loss: 0.4144 - accuracy: 0.8262 - val_loss: 0.5860 - val_accuracy: 0.7579\n",
            "Epoch 89/150\n",
            "607/607 [==============================] - 24s 39ms/step - loss: 0.4042 - accuracy: 0.8314 - val_loss: 0.5873 - val_accuracy: 0.7608\n",
            "Epoch 90/150\n",
            "607/607 [==============================] - 24s 40ms/step - loss: 0.4048 - accuracy: 0.8291 - val_loss: 0.5979 - val_accuracy: 0.7625\n",
            "Epoch 91/150\n",
            "607/607 [==============================] - 24s 40ms/step - loss: 0.4131 - accuracy: 0.8255 - val_loss: 0.6004 - val_accuracy: 0.7600\n",
            "Epoch 92/150\n",
            "607/607 [==============================] - 24s 39ms/step - loss: 0.3988 - accuracy: 0.8337 - val_loss: 0.5891 - val_accuracy: 0.7606\n",
            "Epoch 93/150\n",
            "607/607 [==============================] - 24s 39ms/step - loss: 0.3974 - accuracy: 0.8350 - val_loss: 0.5952 - val_accuracy: 0.7579\n",
            "Epoch 94/150\n",
            "607/607 [==============================] - 24s 39ms/step - loss: 0.3953 - accuracy: 0.8331 - val_loss: 0.5661 - val_accuracy: 0.7672\n",
            "Epoch 95/150\n",
            "607/607 [==============================] - 24s 40ms/step - loss: 0.3873 - accuracy: 0.8392 - val_loss: 0.6071 - val_accuracy: 0.7571\n",
            "Epoch 96/150\n",
            "607/607 [==============================] - 24s 40ms/step - loss: 0.3915 - accuracy: 0.8375 - val_loss: 0.6040 - val_accuracy: 0.7596\n",
            "Epoch 97/150\n",
            "607/607 [==============================] - 24s 39ms/step - loss: 0.3909 - accuracy: 0.8356 - val_loss: 0.5932 - val_accuracy: 0.7604\n",
            "Epoch 98/150\n",
            "607/607 [==============================] - 24s 40ms/step - loss: 0.3925 - accuracy: 0.8379 - val_loss: 0.6376 - val_accuracy: 0.7429\n",
            "Epoch 99/150\n",
            "607/607 [==============================] - 24s 40ms/step - loss: 0.3850 - accuracy: 0.8383 - val_loss: 0.5940 - val_accuracy: 0.7672\n",
            "Epoch 100/150\n",
            "607/607 [==============================] - 24s 40ms/step - loss: 0.3865 - accuracy: 0.8367 - val_loss: 0.5779 - val_accuracy: 0.7656\n",
            "Epoch 101/150\n",
            "607/607 [==============================] - 24s 39ms/step - loss: 0.3764 - accuracy: 0.8441 - val_loss: 0.6220 - val_accuracy: 0.7623\n",
            "Epoch 102/150\n",
            "607/607 [==============================] - 24s 39ms/step - loss: 0.3732 - accuracy: 0.8442 - val_loss: 0.6012 - val_accuracy: 0.7557\n",
            "Epoch 103/150\n",
            "607/607 [==============================] - 24s 40ms/step - loss: 0.3846 - accuracy: 0.8415 - val_loss: 0.6077 - val_accuracy: 0.7645\n",
            "Epoch 104/150\n",
            "607/607 [==============================] - 24s 39ms/step - loss: 0.3730 - accuracy: 0.8440 - val_loss: 0.6206 - val_accuracy: 0.7507\n",
            "Epoch 105/150\n",
            "607/607 [==============================] - 24s 40ms/step - loss: 0.3768 - accuracy: 0.8452 - val_loss: 0.6331 - val_accuracy: 0.7553\n",
            "Epoch 106/150\n",
            "607/607 [==============================] - 24s 40ms/step - loss: 0.3696 - accuracy: 0.8466 - val_loss: 0.6227 - val_accuracy: 0.7586\n",
            "Epoch 107/150\n",
            "607/607 [==============================] - 24s 39ms/step - loss: 0.3749 - accuracy: 0.8452 - val_loss: 0.6204 - val_accuracy: 0.7573\n",
            "Epoch 108/150\n",
            "607/607 [==============================] - 24s 40ms/step - loss: 0.3740 - accuracy: 0.8456 - val_loss: 0.5993 - val_accuracy: 0.7590\n",
            "Epoch 109/150\n",
            "607/607 [==============================] - 24s 40ms/step - loss: 0.3694 - accuracy: 0.8469 - val_loss: 0.6267 - val_accuracy: 0.7528\n",
            "Epoch 110/150\n",
            "607/607 [==============================] - 24s 40ms/step - loss: 0.3663 - accuracy: 0.8501 - val_loss: 0.6065 - val_accuracy: 0.7608\n",
            "Epoch 111/150\n",
            "607/607 [==============================] - 24s 39ms/step - loss: 0.3640 - accuracy: 0.8486 - val_loss: 0.6432 - val_accuracy: 0.7505\n",
            "Epoch 112/150\n",
            "607/607 [==============================] - 24s 39ms/step - loss: 0.3656 - accuracy: 0.8497 - val_loss: 0.6114 - val_accuracy: 0.7614\n",
            "Epoch 113/150\n",
            "607/607 [==============================] - 24s 40ms/step - loss: 0.3579 - accuracy: 0.8500 - val_loss: 0.6278 - val_accuracy: 0.7561\n",
            "Epoch 114/150\n",
            "607/607 [==============================] - 24s 39ms/step - loss: 0.3545 - accuracy: 0.8534 - val_loss: 0.6253 - val_accuracy: 0.7565\n",
            "Epoch 115/150\n",
            "607/607 [==============================] - 24s 40ms/step - loss: 0.3476 - accuracy: 0.8568 - val_loss: 0.6054 - val_accuracy: 0.7581\n",
            "Epoch 116/150\n",
            "607/607 [==============================] - 24s 40ms/step - loss: 0.3616 - accuracy: 0.8539 - val_loss: 0.6386 - val_accuracy: 0.7482\n",
            "Epoch 117/150\n",
            "607/607 [==============================] - 24s 39ms/step - loss: 0.3489 - accuracy: 0.8542 - val_loss: 0.6117 - val_accuracy: 0.7598\n",
            "Epoch 118/150\n",
            "607/607 [==============================] - 24s 39ms/step - loss: 0.3562 - accuracy: 0.8579 - val_loss: 0.6283 - val_accuracy: 0.7592\n",
            "Epoch 119/150\n",
            "607/607 [==============================] - 24s 40ms/step - loss: 0.3468 - accuracy: 0.8582 - val_loss: 0.6983 - val_accuracy: 0.7447\n",
            "Epoch 120/150\n",
            "607/607 [==============================] - 24s 40ms/step - loss: 0.3474 - accuracy: 0.8593 - val_loss: 0.6291 - val_accuracy: 0.7610\n",
            "Epoch 121/150\n",
            "607/607 [==============================] - 24s 40ms/step - loss: 0.3439 - accuracy: 0.8588 - val_loss: 0.6571 - val_accuracy: 0.7526\n",
            "Epoch 122/150\n",
            "607/607 [==============================] - 24s 40ms/step - loss: 0.3357 - accuracy: 0.8669 - val_loss: 0.6000 - val_accuracy: 0.7606\n",
            "Epoch 123/150\n",
            "607/607 [==============================] - 24s 40ms/step - loss: 0.3367 - accuracy: 0.8598 - val_loss: 0.6382 - val_accuracy: 0.7590\n",
            "Epoch 124/150\n",
            "607/607 [==============================] - 24s 40ms/step - loss: 0.3352 - accuracy: 0.8639 - val_loss: 0.6100 - val_accuracy: 0.7726\n",
            "Epoch 125/150\n",
            "607/607 [==============================] - 24s 40ms/step - loss: 0.3398 - accuracy: 0.8647 - val_loss: 0.6350 - val_accuracy: 0.7598\n",
            "Epoch 126/150\n",
            "607/607 [==============================] - 24s 40ms/step - loss: 0.3315 - accuracy: 0.8666 - val_loss: 0.6446 - val_accuracy: 0.7610\n",
            "Epoch 127/150\n",
            "607/607 [==============================] - 24s 39ms/step - loss: 0.3331 - accuracy: 0.8636 - val_loss: 0.6777 - val_accuracy: 0.7553\n",
            "Epoch 128/150\n",
            "607/607 [==============================] - 24s 39ms/step - loss: 0.3442 - accuracy: 0.8594 - val_loss: 0.6310 - val_accuracy: 0.7660\n",
            "Epoch 129/150\n",
            "607/607 [==============================] - 24s 40ms/step - loss: 0.3328 - accuracy: 0.8627 - val_loss: 0.6703 - val_accuracy: 0.7542\n",
            "Epoch 130/150\n",
            "607/607 [==============================] - 24s 39ms/step - loss: 0.3304 - accuracy: 0.8670 - val_loss: 0.6363 - val_accuracy: 0.7635\n",
            "Epoch 131/150\n",
            "607/607 [==============================] - 24s 39ms/step - loss: 0.3300 - accuracy: 0.8655 - val_loss: 0.6492 - val_accuracy: 0.7559\n",
            "Epoch 132/150\n",
            "607/607 [==============================] - 24s 39ms/step - loss: 0.3267 - accuracy: 0.8687 - val_loss: 0.6382 - val_accuracy: 0.7581\n",
            "Epoch 133/150\n",
            "607/607 [==============================] - 24s 40ms/step - loss: 0.3284 - accuracy: 0.8685 - val_loss: 0.6453 - val_accuracy: 0.7594\n",
            "Epoch 134/150\n",
            "607/607 [==============================] - 24s 40ms/step - loss: 0.3206 - accuracy: 0.8703 - val_loss: 0.6509 - val_accuracy: 0.7579\n",
            "Epoch 135/150\n",
            "607/607 [==============================] - 24s 40ms/step - loss: 0.3249 - accuracy: 0.8666 - val_loss: 0.6628 - val_accuracy: 0.7557\n",
            "Epoch 136/150\n",
            "607/607 [==============================] - 24s 39ms/step - loss: 0.3125 - accuracy: 0.8734 - val_loss: 0.6317 - val_accuracy: 0.7600\n",
            "Epoch 137/150\n",
            "607/607 [==============================] - 24s 39ms/step - loss: 0.3187 - accuracy: 0.8691 - val_loss: 0.6626 - val_accuracy: 0.7627\n",
            "Epoch 138/150\n",
            "607/607 [==============================] - 24s 39ms/step - loss: 0.3165 - accuracy: 0.8689 - val_loss: 0.6201 - val_accuracy: 0.7685\n",
            "Epoch 139/150\n",
            "607/607 [==============================] - 24s 40ms/step - loss: 0.3231 - accuracy: 0.8696 - val_loss: 0.6608 - val_accuracy: 0.7569\n",
            "Epoch 140/150\n",
            "607/607 [==============================] - 24s 39ms/step - loss: 0.3129 - accuracy: 0.8736 - val_loss: 0.6429 - val_accuracy: 0.7674\n",
            "Epoch 141/150\n",
            "607/607 [==============================] - 24s 39ms/step - loss: 0.3150 - accuracy: 0.8727 - val_loss: 0.6767 - val_accuracy: 0.7635\n",
            "Epoch 142/150\n",
            "607/607 [==============================] - 25s 41ms/step - loss: 0.3109 - accuracy: 0.8765 - val_loss: 0.6503 - val_accuracy: 0.7614\n",
            "Epoch 143/150\n",
            "607/607 [==============================] - 24s 40ms/step - loss: 0.3112 - accuracy: 0.8734 - val_loss: 0.6767 - val_accuracy: 0.7621\n",
            "Epoch 144/150\n",
            "607/607 [==============================] - 24s 40ms/step - loss: 0.3059 - accuracy: 0.8774 - val_loss: 0.6708 - val_accuracy: 0.7584\n",
            "Epoch 145/150\n",
            "607/607 [==============================] - 24s 39ms/step - loss: 0.3175 - accuracy: 0.8720 - val_loss: 0.6240 - val_accuracy: 0.7656\n",
            "Epoch 146/150\n",
            "607/607 [==============================] - 24s 40ms/step - loss: 0.3095 - accuracy: 0.8756 - val_loss: 0.6555 - val_accuracy: 0.7627\n",
            "Epoch 147/150\n",
            "607/607 [==============================] - 24s 40ms/step - loss: 0.3060 - accuracy: 0.8773 - val_loss: 0.6592 - val_accuracy: 0.7672\n",
            "Epoch 148/150\n",
            "607/607 [==============================] - 24s 40ms/step - loss: 0.3094 - accuracy: 0.8750 - val_loss: 0.6540 - val_accuracy: 0.7598\n",
            "Epoch 149/150\n",
            "607/607 [==============================] - 24s 40ms/step - loss: 0.3024 - accuracy: 0.8806 - val_loss: 0.6699 - val_accuracy: 0.7614\n",
            "Epoch 150/150\n",
            "607/607 [==============================] - 24s 39ms/step - loss: 0.2985 - accuracy: 0.8789 - val_loss: 0.6516 - val_accuracy: 0.7563\n"
          ],
          "name": "stdout"
        }
      ]
    },
    {
      "cell_type": "code",
      "metadata": {
        "colab": {
          "base_uri": "https://localhost:8080/"
        },
        "id": "ktEt_jdV1mTq",
        "outputId": "d7c432e8-c1c1-4ea6-f459-10ac5e8b65b5"
      },
      "source": [
        "best_model = create_model()\n",
        "best_model.load_weights('best_model.h5')"
      ],
      "execution_count": 138,
      "outputs": [
        {
          "output_type": "stream",
          "text": [
            "Model: \"sequential_14\"\n",
            "_________________________________________________________________\n",
            "Layer (type)                 Output Shape              Param #   \n",
            "=================================================================\n",
            "bidirectional_17 (Bidirectio (None, 60, 200)           81600     \n",
            "_________________________________________________________________\n",
            "bidirectional_18 (Bidirectio (None, 60, 120)           125280    \n",
            "_________________________________________________________________\n",
            "attention_13 (Attention)     (None, 120)               180       \n",
            "_________________________________________________________________\n",
            "dropout_13 (Dropout)         (None, 120)               0         \n",
            "_________________________________________________________________\n",
            "dense_26 (Dense)             (None, 256)               30976     \n",
            "_________________________________________________________________\n",
            "dense_27 (Dense)             (None, 4)                 1028      \n",
            "=================================================================\n",
            "Total params: 239,064\n",
            "Trainable params: 239,064\n",
            "Non-trainable params: 0\n",
            "_________________________________________________________________\n",
            "None\n"
          ],
          "name": "stdout"
        }
      ]
    },
    {
      "cell_type": "code",
      "metadata": {
        "id": "U1omud6n7Jca"
      },
      "source": [
        "predictions = model.predict(X_test)\n"
      ],
      "execution_count": 139,
      "outputs": []
    },
    {
      "cell_type": "code",
      "metadata": {
        "colab": {
          "base_uri": "https://localhost:8080/"
        },
        "id": "fq6Qc7PJ8-qi",
        "outputId": "0b79a499-f675-4671-bbed-957f7a0ac47b"
      },
      "source": [
        "enc.categories_"
      ],
      "execution_count": 140,
      "outputs": [
        {
          "output_type": "execute_result",
          "data": {
            "text/plain": [
              "[array(['L', 'N', 'T', 'W'], dtype=object)]"
            ]
          },
          "metadata": {
            "tags": []
          },
          "execution_count": 140
        }
      ]
    },
    {
      "cell_type": "code",
      "metadata": {
        "id": "3gb8pa-C96zp"
      },
      "source": [
        "Y_resuts = np.argmax(y_test, axis=1)\n",
        "predictions_res = np.argmax(predictions, axis=1)\n"
      ],
      "execution_count": 141,
      "outputs": []
    },
    {
      "cell_type": "code",
      "metadata": {
        "colab": {
          "base_uri": "https://localhost:8080/",
          "height": 330
        },
        "id": "kPV9HnMeor4K",
        "outputId": "2c34c46c-35d4-4c6c-df96-fd1fb0eba7ac"
      },
      "source": [
        "plt.hist(Y_resuts)"
      ],
      "execution_count": 142,
      "outputs": [
        {
          "output_type": "execute_result",
          "data": {
            "text/plain": [
              "(array([1123.,    0.,    0.,  871.,    0.,    0., 1187.,    0.,    0.,\n",
              "        1669.]),\n",
              " array([0. , 0.3, 0.6, 0.9, 1.2, 1.5, 1.8, 2.1, 2.4, 2.7, 3. ]),\n",
              " <a list of 10 Patch objects>)"
            ]
          },
          "metadata": {
            "tags": []
          },
          "execution_count": 142
        },
        {
          "output_type": "display_data",
          "data": {
            "image/png": "[encoded data removed]",
            "text/plain": [
              "<Figure size 432x288 with 1 Axes>"
            ]
          },
          "metadata": {
            "tags": [],
            "needs_background": "light"
          }
        }
      ]
    },
    {
      "cell_type": "code",
      "metadata": {
        "colab": {
          "base_uri": "https://localhost:8080/",
          "height": 655
        },
        "id": "sNMomjfY-iA6",
        "outputId": "4fa0d4ca-3daa-4567-fad4-aad072953eba"
      },
      "source": [
        "from sklearn.metrics import confusion_matrix,ConfusionMatrixDisplay, precision_recall_fscore_support, accuracy_score\n",
        "\n",
        "labels = enc.categories_[0]\n",
        "\n",
        "cm = confusion_matrix(Y_resuts, predictions_res)\n",
        "print(cm)\n",
        "disp = ConfusionMatrixDisplay(confusion_matrix=cm,display_labels= labels)\n",
        "fig, ax = plt.subplots(figsize=(10,10))\n",
        "disp.plot(ax=ax)"
      ],
      "execution_count": 143,
      "outputs": [
        {
          "output_type": "stream",
          "text": [
            "[[ 655  241  201   26]\n",
            " [ 224  520  110   17]\n",
            " [ 139   67  978    3]\n",
            " [  66   67   21 1515]]\n"
          ],
          "name": "stdout"
        },
        {
          "output_type": "execute_result",
          "data": {
            "text/plain": [
              "<sklearn.metrics._plot.confusion_matrix.ConfusionMatrixDisplay at 0x7fdbc8996f10>"
            ]
          },
          "metadata": {
            "tags": []
          },
          "execution_count": 143
        },
        {
          "output_type": "display_data",
          "data": {
            "image/png": "[encoded data removed]",
            "text/plain": [
              "<Figure size 720x720 with 2 Axes>"
            ]
          },
          "metadata": {
            "tags": [],
            "needs_background": "light"
          }
        }
      ]
    },
    {
      "cell_type": "code",
      "metadata": {
        "colab": {
          "base_uri": "https://localhost:8080/"
        },
        "id": "j0bMdd-X-1IH",
        "outputId": "13f501eb-ba23-4b07-9d6f-969a6a024a6b"
      },
      "source": [
        "from sklearn.metrics import classification_report\n",
        "\n",
        "print(classification_report(Y_resuts, predictions_res, target_names=labels))\n"
      ],
      "execution_count": 144,
      "outputs": [
        {
          "output_type": "stream",
          "text": [
            "              precision    recall  f1-score   support\n",
            "\n",
            "           L       0.60      0.58      0.59      1123\n",
            "           N       0.58      0.60      0.59       871\n",
            "           T       0.75      0.82      0.78      1187\n",
            "           W       0.97      0.91      0.94      1669\n",
            "\n",
            "    accuracy                           0.76      4850\n",
            "   macro avg       0.73      0.73      0.73      4850\n",
            "weighted avg       0.76      0.76      0.76      4850\n",
            "\n"
          ],
          "name": "stdout"
        }
      ]
    },
    {
      "cell_type": "code",
      "metadata": {
        "id": "YtnKjnEQATT4"
      },
      "source": [],
      "execution_count": 144,
      "outputs": []
    }
  ]
}